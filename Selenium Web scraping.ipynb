{
 "cells": [
  {
   "cell_type": "code",
   "execution_count": 1,
   "metadata": {},
   "outputs": [
    {
     "name": "stdout",
     "output_type": "stream",
     "text": [
      "Collecting selenium\n",
      "  Downloading selenium-3.141.0-py2.py3-none-any.whl (904 kB)\n",
      "Requirement already satisfied: urllib3 in c:\\users\\chawl\\anaconda3\\lib\\site-packages (from selenium) (1.25.11)\n",
      "Installing collected packages: selenium\n",
      "Successfully installed selenium-3.141.0\n"
     ]
    }
   ],
   "source": [
    "!pip install selenium"
   ]
  },
  {
   "cell_type": "code",
   "execution_count": 1,
   "metadata": {},
   "outputs": [],
   "source": [
    "import selenium\n",
    "import pandas as pd\n",
    "from selenium import webdriver"
   ]
  },
  {
   "cell_type": "code",
   "execution_count": 227,
   "metadata": {},
   "outputs": [],
   "source": [
    "driver = webdriver.Chrome(r\"C:\\Users\\chawl\\Documents\\chromedriver_win32\\chromedriver.exe\")"
   ]
  },
  {
   "cell_type": "markdown",
   "metadata": {},
   "source": [
    "# Q1"
   ]
  },
  {
   "cell_type": "code",
   "execution_count": 99,
   "metadata": {},
   "outputs": [],
   "source": [
    "url = \"https://www.naukri.com/\"\n",
    "driver.get(url)\n",
    "#performing search\n",
    "search_job = driver.find_element_by_id('qsb-keyword-sugg')\n",
    "search_job.send_keys('Data Analyst')\n",
    "search_loc=driver.find_element_by_id('qsb-location-sugg')\n",
    "search_loc.send_keys('Bangalore')\n",
    "search_btn = driver.find_element_by_xpath(\"//button[@class='btn']\")\n",
    "search_btn.click()"
   ]
  },
  {
   "cell_type": "code",
   "execution_count": 100,
   "metadata": {},
   "outputs": [],
   "source": [
    "#Gathering differnet details\n",
    "title = driver.find_elements_by_xpath(\"//a[@class='title fw500 ellipsis']\")\n",
    "job_titles =[]\n",
    "for i in title[:10]:\n",
    "    job_titles.append(i.text)\n",
    "name = driver.find_elements_by_xpath(\"//a[@class='subTitle ellipsis fleft']\")\n",
    "company_name =[]\n",
    "for i in name[:10]:\n",
    "    company_name.append(i.text)\n",
    "experience = driver.find_elements_by_xpath(\"//li[@class='fleft grey-text br2 placeHolderLi experience']\")\n",
    "experience_required =[]\n",
    "for i in experience[:10]:\n",
    "    experience_required.append(i.text)\n",
    "location = driver.find_elements_by_xpath(\"//li[@class='fleft grey-text br2 placeHolderLi location']/span\")\n",
    "job_location=[]\n",
    "for i in location[:10]:\n",
    "    job_location.append(i.text)"
   ]
  },
  {
   "cell_type": "code",
   "execution_count": 101,
   "metadata": {},
   "outputs": [],
   "source": [
    "#Creating a dataframe\n",
    "jobs_data = pd.DataFrame({\n",
    "            \"Job_Title\": job_titles,\n",
    "             \"Company_Name\": company_name,\n",
    "             \"Experience_Required\": experience_required,\n",
    "             \"Job_location\":job_location\n",
    "        })"
   ]
  },
  {
   "cell_type": "code",
   "execution_count": 102,
   "metadata": {},
   "outputs": [
    {
     "data": {
      "text/html": [
       "<div>\n",
       "<style scoped>\n",
       "    .dataframe tbody tr th:only-of-type {\n",
       "        vertical-align: middle;\n",
       "    }\n",
       "\n",
       "    .dataframe tbody tr th {\n",
       "        vertical-align: top;\n",
       "    }\n",
       "\n",
       "    .dataframe thead th {\n",
       "        text-align: right;\n",
       "    }\n",
       "</style>\n",
       "<table border=\"1\" class=\"dataframe\">\n",
       "  <thead>\n",
       "    <tr style=\"text-align: right;\">\n",
       "      <th></th>\n",
       "      <th>Job_Title</th>\n",
       "      <th>Company_Name</th>\n",
       "      <th>Experience_Required</th>\n",
       "      <th>Job_location</th>\n",
       "    </tr>\n",
       "  </thead>\n",
       "  <tbody>\n",
       "    <tr>\n",
       "      <th>0</th>\n",
       "      <td>Data Scientist / Data Analyst -Business Analyst</td>\n",
       "      <td>Inflexion Analytix Private Limited</td>\n",
       "      <td>0-3 Yrs</td>\n",
       "      <td>Mumbai, Hyderabad/Secunderabad, Pune, Gurgaon/...</td>\n",
       "    </tr>\n",
       "    <tr>\n",
       "      <th>1</th>\n",
       "      <td>Data Analyst</td>\n",
       "      <td>Novel Office</td>\n",
       "      <td>0-3 Yrs</td>\n",
       "      <td>Bangalore/Bengaluru</td>\n",
       "    </tr>\n",
       "    <tr>\n",
       "      <th>2</th>\n",
       "      <td>Data analysts</td>\n",
       "      <td>IBM India Pvt. Limited</td>\n",
       "      <td>5-6 Yrs</td>\n",
       "      <td>Bengaluru/Bangalore</td>\n",
       "    </tr>\n",
       "    <tr>\n",
       "      <th>3</th>\n",
       "      <td>Data Analyst (2positions)//immediate Joiners//...</td>\n",
       "      <td>Tech Mahindra Ltd.</td>\n",
       "      <td>4-8 Yrs</td>\n",
       "      <td>Bangalore/Bengaluru</td>\n",
       "    </tr>\n",
       "    <tr>\n",
       "      <th>4</th>\n",
       "      <td>Data analysts</td>\n",
       "      <td>IBM India Pvt. Limited</td>\n",
       "      <td>3-5 Yrs</td>\n",
       "      <td>Bangalore/Bengaluru</td>\n",
       "    </tr>\n",
       "  </tbody>\n",
       "</table>\n",
       "</div>"
      ],
      "text/plain": [
       "                                           Job_Title  \\\n",
       "0    Data Scientist / Data Analyst -Business Analyst   \n",
       "1                                       Data Analyst   \n",
       "2                                      Data analysts   \n",
       "3  Data Analyst (2positions)//immediate Joiners//...   \n",
       "4                                      Data analysts   \n",
       "\n",
       "                         Company_Name Experience_Required  \\\n",
       "0  Inflexion Analytix Private Limited             0-3 Yrs   \n",
       "1                        Novel Office             0-3 Yrs   \n",
       "2              IBM India Pvt. Limited             5-6 Yrs   \n",
       "3                  Tech Mahindra Ltd.             4-8 Yrs   \n",
       "4              IBM India Pvt. Limited             3-5 Yrs   \n",
       "\n",
       "                                        Job_location  \n",
       "0  Mumbai, Hyderabad/Secunderabad, Pune, Gurgaon/...  \n",
       "1                                Bangalore/Bengaluru  \n",
       "2                                Bengaluru/Bangalore  \n",
       "3                                Bangalore/Bengaluru  \n",
       "4                                Bangalore/Bengaluru  "
      ]
     },
     "execution_count": 102,
     "metadata": {},
     "output_type": "execute_result"
    }
   ],
   "source": [
    "#verifing the data\n",
    "jobs_data.head()"
   ]
  },
  {
   "cell_type": "markdown",
   "metadata": {},
   "source": [
    "# Q2"
   ]
  },
  {
   "cell_type": "code",
   "execution_count": 103,
   "metadata": {},
   "outputs": [],
   "source": [
    "url = \"https://www.naukri.com/\"\n",
    "driver.get(url)\n",
    "# performing search\n",
    "search_job = driver.find_element_by_id('qsb-keyword-sugg')\n",
    "search_job.send_keys('Data Scientist')\n",
    "search_loc=driver.find_element_by_id('qsb-location-sugg')\n",
    "search_loc.send_keys('Bangalore')\n",
    "search_btn = driver.find_element_by_xpath(\"//button[@class='btn']\")\n",
    "search_btn.click()"
   ]
  },
  {
   "cell_type": "code",
   "execution_count": 104,
   "metadata": {},
   "outputs": [],
   "source": [
    "# Gathering the details\n",
    "title = driver.find_elements_by_xpath(\"//a[@class='title fw500 ellipsis']\")\n",
    "job_titles =[]\n",
    "for i in title[:10]:\n",
    "    job_titles.append(i.text)\n",
    "name = driver.find_elements_by_xpath(\"//a[@class='subTitle ellipsis fleft']\")\n",
    "company_name =[]\n",
    "for i in name[:10]:\n",
    "    company_name.append(i.text)\n",
    "location = driver.find_elements_by_xpath(\"//li[@class='fleft grey-text br2 placeHolderLi location']/span\")\n",
    "job_location=[]\n",
    "for i in location[:10]:\n",
    "    job_location.append(i.text)"
   ]
  },
  {
   "cell_type": "code",
   "execution_count": 105,
   "metadata": {},
   "outputs": [],
   "source": [
    "#gathering details and if details are not present in class using different class\n",
    "from selenium.common.exceptions import NoSuchElementException\n",
    "search = driver.find_elements_by_xpath(\"//a[@class='title fw500 ellipsis']\")\n",
    "job_desc =[]\n",
    "link=[]\n",
    "for i in search:\n",
    "    url=i.get_attribute('href')\n",
    "    link.append(url)\n",
    "\n",
    "for url in link[:10]:\n",
    "    try:\n",
    "        driver.get(url)\n",
    "        data = driver.find_element_by_xpath(\"//section[@class='job-desc']\")\n",
    "        job_desc.append(data.text)\n",
    "    except NoSuchElementException:\n",
    "        data = driver.find_element_by_xpath(\"//section[@class='getJobDescription JD av_textblock_section']\")\n",
    "        job_desc.append(data.text)\n",
    "            \n",
    "        \n",
    "    "
   ]
  },
  {
   "cell_type": "code",
   "execution_count": 106,
   "metadata": {},
   "outputs": [],
   "source": [
    "#creating data frame\n",
    "jobs_data = pd.DataFrame({\n",
    "            \"Job_Title\": job_titles,\n",
    "             \"Company_Name\": company_name,\n",
    "             \"Job_Desc\": job_desc,\n",
    "             \"Job_location\":job_location\n",
    "        })"
   ]
  },
  {
   "cell_type": "code",
   "execution_count": 107,
   "metadata": {},
   "outputs": [
    {
     "data": {
      "text/html": [
       "<div>\n",
       "<style scoped>\n",
       "    .dataframe tbody tr th:only-of-type {\n",
       "        vertical-align: middle;\n",
       "    }\n",
       "\n",
       "    .dataframe tbody tr th {\n",
       "        vertical-align: top;\n",
       "    }\n",
       "\n",
       "    .dataframe thead th {\n",
       "        text-align: right;\n",
       "    }\n",
       "</style>\n",
       "<table border=\"1\" class=\"dataframe\">\n",
       "  <thead>\n",
       "    <tr style=\"text-align: right;\">\n",
       "      <th></th>\n",
       "      <th>Job_Title</th>\n",
       "      <th>Company_Name</th>\n",
       "      <th>Job_Desc</th>\n",
       "      <th>Job_location</th>\n",
       "    </tr>\n",
       "  </thead>\n",
       "  <tbody>\n",
       "    <tr>\n",
       "      <th>0</th>\n",
       "      <td>Data Scientist / Data Analyst -Business Analyst</td>\n",
       "      <td>Inflexion Analytix Private Limited</td>\n",
       "      <td>Job description\\nJob Role : Data Scientist/Dat...</td>\n",
       "      <td>Mumbai, Hyderabad/Secunderabad, Pune, Gurgaon/...</td>\n",
       "    </tr>\n",
       "    <tr>\n",
       "      <th>1</th>\n",
       "      <td>Senior / Lead Data Scientist</td>\n",
       "      <td>TVS CREDIT SERVICES LIMITED</td>\n",
       "      <td>Job description\\n\\nKey Responsibilities\\nBe re...</td>\n",
       "      <td>Pune, Chennai, Bangalore/Bengaluru</td>\n",
       "    </tr>\n",
       "    <tr>\n",
       "      <th>2</th>\n",
       "      <td>data scientist</td>\n",
       "      <td>Global Talent Pool</td>\n",
       "      <td>Job description\\nEssential Duties Responsibili...</td>\n",
       "      <td>Bangalore/Bengaluru</td>\n",
       "    </tr>\n",
       "    <tr>\n",
       "      <th>3</th>\n",
       "      <td>Data analytics / Data scientist intern (work f...</td>\n",
       "      <td>TalkValley LLC</td>\n",
       "      <td>Job description\\nWe are a group of tenured pro...</td>\n",
       "      <td>Kolkata, Bangalore/Bengaluru, Delhi / NCR</td>\n",
       "    </tr>\n",
       "    <tr>\n",
       "      <th>4</th>\n",
       "      <td>Senior Data Scientist</td>\n",
       "      <td>RedBus</td>\n",
       "      <td>Job Description\\nJob Role: Senior Data Scienti...</td>\n",
       "      <td>Bangalore/Bengaluru</td>\n",
       "    </tr>\n",
       "  </tbody>\n",
       "</table>\n",
       "</div>"
      ],
      "text/plain": [
       "                                           Job_Title  \\\n",
       "0    Data Scientist / Data Analyst -Business Analyst   \n",
       "1                       Senior / Lead Data Scientist   \n",
       "2                                     data scientist   \n",
       "3  Data analytics / Data scientist intern (work f...   \n",
       "4                              Senior Data Scientist   \n",
       "\n",
       "                         Company_Name  \\\n",
       "0  Inflexion Analytix Private Limited   \n",
       "1         TVS CREDIT SERVICES LIMITED   \n",
       "2                  Global Talent Pool   \n",
       "3                      TalkValley LLC   \n",
       "4                              RedBus   \n",
       "\n",
       "                                            Job_Desc  \\\n",
       "0  Job description\\nJob Role : Data Scientist/Dat...   \n",
       "1  Job description\\n\\nKey Responsibilities\\nBe re...   \n",
       "2  Job description\\nEssential Duties Responsibili...   \n",
       "3  Job description\\nWe are a group of tenured pro...   \n",
       "4  Job Description\\nJob Role: Senior Data Scienti...   \n",
       "\n",
       "                                        Job_location  \n",
       "0  Mumbai, Hyderabad/Secunderabad, Pune, Gurgaon/...  \n",
       "1                 Pune, Chennai, Bangalore/Bengaluru  \n",
       "2                                Bangalore/Bengaluru  \n",
       "3          Kolkata, Bangalore/Bengaluru, Delhi / NCR  \n",
       "4                                Bangalore/Bengaluru  "
      ]
     },
     "execution_count": 107,
     "metadata": {},
     "output_type": "execute_result"
    }
   ],
   "source": [
    "#verifying the data\n",
    "jobs_data.head()"
   ]
  },
  {
   "cell_type": "markdown",
   "metadata": {},
   "source": [
    "# Q3"
   ]
  },
  {
   "cell_type": "code",
   "execution_count": 20,
   "metadata": {},
   "outputs": [],
   "source": [
    "url = \"https://www.naukri.com/\"\n",
    "driver.get(url)\n",
    "# performing search\n",
    "search_job = driver.find_element_by_id('qsb-keyword-sugg')\n",
    "search_job.send_keys('Data Scientist')\n",
    "search_btn = driver.find_element_by_xpath(\"//button[@class='btn']\")\n",
    "search_btn.click()\n",
    "\n"
   ]
  },
  {
   "cell_type": "code",
   "execution_count": 21,
   "metadata": {},
   "outputs": [],
   "source": [
    "#performing filter\n",
    "search_loc=driver.find_element_by_xpath(\"//span[@title='Delhi / NCR']\")\n",
    "search_loc.click()"
   ]
  },
  {
   "cell_type": "code",
   "execution_count": 22,
   "metadata": {},
   "outputs": [],
   "source": [
    "#performing filter\n",
    "search_loc=driver.find_element_by_xpath(\"//span[@title='3-6 Lakhs']\")\n",
    "search_loc.click()"
   ]
  },
  {
   "cell_type": "code",
   "execution_count": 23,
   "metadata": {},
   "outputs": [],
   "source": [
    "#gathering the data\n",
    "title = driver.find_elements_by_xpath(\"//a[@class='title fw500 ellipsis']\")\n",
    "job_titles =[]\n",
    "for i in title[:10]:\n",
    "    job_titles.append(i.text)\n",
    "name = driver.find_elements_by_xpath(\"//a[@class='subTitle ellipsis fleft']\")\n",
    "company_name =[]\n",
    "for i in name[:10]:\n",
    "    company_name.append(i.text)\n",
    "experience = driver.find_elements_by_xpath(\"//li[@class='fleft grey-text br2 placeHolderLi experience']\")\n",
    "experience_required =[]\n",
    "for i in experience[:10]:\n",
    "    experience_required.append(i.text)\n",
    "location = driver.find_elements_by_xpath(\"//li[@class='fleft grey-text br2 placeHolderLi location']/span\")\n",
    "job_location=[]\n",
    "for i in location[:10]:\n",
    "    job_location.append(i.text)"
   ]
  },
  {
   "cell_type": "code",
   "execution_count": 24,
   "metadata": {},
   "outputs": [],
   "source": [
    "#craeting the dataframe\n",
    "jobs_data = pd.DataFrame({\n",
    "            \"Job_Title\": job_titles,\n",
    "             \"Company_Name\": company_name,\n",
    "             \"Experience_Required\": experience_required,\n",
    "             \"Job_location\":job_location\n",
    "        })"
   ]
  },
  {
   "cell_type": "code",
   "execution_count": 25,
   "metadata": {},
   "outputs": [
    {
     "data": {
      "text/html": [
       "<div>\n",
       "<style scoped>\n",
       "    .dataframe tbody tr th:only-of-type {\n",
       "        vertical-align: middle;\n",
       "    }\n",
       "\n",
       "    .dataframe tbody tr th {\n",
       "        vertical-align: top;\n",
       "    }\n",
       "\n",
       "    .dataframe thead th {\n",
       "        text-align: right;\n",
       "    }\n",
       "</style>\n",
       "<table border=\"1\" class=\"dataframe\">\n",
       "  <thead>\n",
       "    <tr style=\"text-align: right;\">\n",
       "      <th></th>\n",
       "      <th>Job_Title</th>\n",
       "      <th>Company_Name</th>\n",
       "      <th>Experience_Required</th>\n",
       "      <th>Job_location</th>\n",
       "    </tr>\n",
       "  </thead>\n",
       "  <tbody>\n",
       "    <tr>\n",
       "      <th>0</th>\n",
       "      <td>Data Scientist / Data Analyst -Business Analyst</td>\n",
       "      <td>Inflexion Analytix Private Limited</td>\n",
       "      <td>0-3 Yrs</td>\n",
       "      <td>Mumbai, Hyderabad/Secunderabad, Pune, Gurgaon/...</td>\n",
       "    </tr>\n",
       "    <tr>\n",
       "      <th>1</th>\n",
       "      <td>Data analytics / Data scientist intern (work f...</td>\n",
       "      <td>TalkValley LLC</td>\n",
       "      <td>0-5 Yrs</td>\n",
       "      <td>Kolkata, Bangalore/Bengaluru, Delhi / NCR</td>\n",
       "    </tr>\n",
       "    <tr>\n",
       "      <th>2</th>\n",
       "      <td>Chaayos is Looking For Data Scientist</td>\n",
       "      <td>Chaayos (Sunshine Teahouse Pvt. Ltd.)</td>\n",
       "      <td>0-5 Yrs</td>\n",
       "      <td>New Delhi</td>\n",
       "    </tr>\n",
       "    <tr>\n",
       "      <th>3</th>\n",
       "      <td>Data Scientist</td>\n",
       "      <td>Fractal Analytics</td>\n",
       "      <td>3-7 Yrs</td>\n",
       "      <td>Mumbai, Gurgaon/Gurugram, Bangalore/Bengaluru</td>\n",
       "    </tr>\n",
       "    <tr>\n",
       "      <th>4</th>\n",
       "      <td>Junior Data Scientist</td>\n",
       "      <td>R Systems International Ltd.</td>\n",
       "      <td>3-5 Yrs</td>\n",
       "      <td>Noida(Sector-59 Noida)</td>\n",
       "    </tr>\n",
       "  </tbody>\n",
       "</table>\n",
       "</div>"
      ],
      "text/plain": [
       "                                           Job_Title  \\\n",
       "0    Data Scientist / Data Analyst -Business Analyst   \n",
       "1  Data analytics / Data scientist intern (work f...   \n",
       "2              Chaayos is Looking For Data Scientist   \n",
       "3                                     Data Scientist   \n",
       "4                              Junior Data Scientist   \n",
       "\n",
       "                            Company_Name Experience_Required  \\\n",
       "0     Inflexion Analytix Private Limited             0-3 Yrs   \n",
       "1                         TalkValley LLC             0-5 Yrs   \n",
       "2  Chaayos (Sunshine Teahouse Pvt. Ltd.)             0-5 Yrs   \n",
       "3                      Fractal Analytics             3-7 Yrs   \n",
       "4           R Systems International Ltd.             3-5 Yrs   \n",
       "\n",
       "                                        Job_location  \n",
       "0  Mumbai, Hyderabad/Secunderabad, Pune, Gurgaon/...  \n",
       "1          Kolkata, Bangalore/Bengaluru, Delhi / NCR  \n",
       "2                                          New Delhi  \n",
       "3      Mumbai, Gurgaon/Gurugram, Bangalore/Bengaluru  \n",
       "4                             Noida(Sector-59 Noida)  "
      ]
     },
     "execution_count": 25,
     "metadata": {},
     "output_type": "execute_result"
    }
   ],
   "source": [
    "#verifying the data\n",
    "jobs_data.head()"
   ]
  },
  {
   "cell_type": "markdown",
   "metadata": {},
   "source": [
    "# Q4"
   ]
  },
  {
   "cell_type": "code",
   "execution_count": 337,
   "metadata": {},
   "outputs": [],
   "source": [
    "url = \"https://www.glassdoor.co.in/index.htm\"\n",
    "driver.get(url)\n",
    "#performing search\n",
    "search_job1 = driver.find_element_by_id('sc.keyword')\n",
    "search_job1.send_keys('Data Scientist')\n",
    "search_job2 = driver.find_element_by_id('sc.location')\n",
    "driver.find_element_by_id('sc.location').clear()\n",
    "search_job2.send_keys('Noida')\n"
   ]
  },
  {
   "cell_type": "code",
   "execution_count": 338,
   "metadata": {},
   "outputs": [],
   "source": [
    "search_btn = driver.find_element_by_xpath(\"//button[@class='gd-ui-button ml-std col-auto SearchStyles__newSearchButton css-iixdfr']\")\n",
    "search_btn.click()"
   ]
  },
  {
   "cell_type": "code",
   "execution_count": 339,
   "metadata": {},
   "outputs": [],
   "source": [
    "# getting all the URL's\n",
    "jobs = driver.find_elements_by_xpath(\"//a[@class='jobLink css-1rd3saf eigr9kq2']\")\n",
    "url=[]\n",
    "for i in jobs:\n",
    "    url.append(i.get_attribute('href'))"
   ]
  },
  {
   "cell_type": "code",
   "execution_count": 341,
   "metadata": {},
   "outputs": [],
   "source": [
    "# gathering the data\n",
    "comp=[]\n",
    "rating=[]\n",
    "days=[]\n",
    "d = driver.find_elements_by_xpath(\"//div[@class='d-flex align-items-end pl-std css-mi55ob']\")\n",
    "for i in d[:10]:\n",
    "    days.append(i.text)"
   ]
  },
  {
   "cell_type": "code",
   "execution_count": 343,
   "metadata": {},
   "outputs": [],
   "source": [
    "for ur in url:\n",
    "    driver.get(ur)\n",
    "    time.sleep(2)\n",
    "    comp.append(driver.find_element_by_xpath(\"//div[@class='css-16nw49e e11nt52q1']\").text)\n",
    "    try:\n",
    "        rating.append(driver.find_element_by_xpath(\"//span[@class='css-1pmc6te e11nt52q4']\").text)\n",
    "    except NoSuchElementException:\n",
    "        rating.append('-')"
   ]
  },
  {
   "cell_type": "code",
   "execution_count": 344,
   "metadata": {},
   "outputs": [],
   "source": [
    "#slicing to get top 10 rows\n",
    "comp = comp[:10]\n",
    "rating = rating[:10]"
   ]
  },
  {
   "cell_type": "code",
   "execution_count": 345,
   "metadata": {},
   "outputs": [],
   "source": [
    "#creating the dataframe\n",
    "jobs_d = pd.DataFrame({\n",
    "             \"Company_Name\": comp,\n",
    "             \"rating\": rating,\n",
    "             \"days ago\":days\n",
    "        })"
   ]
  },
  {
   "cell_type": "markdown",
   "metadata": {},
   "source": [
    "# Q5"
   ]
  },
  {
   "cell_type": "code",
   "execution_count": 20,
   "metadata": {},
   "outputs": [],
   "source": [
    "url = \"https://www.glassdoor.co.in/Salaries/index.htm\"\n",
    "driver.get(url)\n",
    "#performing search\n",
    "search_job1 = driver.find_element_by_id('KeywordSearch')\n",
    "search_job1.send_keys('Data Scientist')\n",
    "search_job2 = driver.find_element_by_id('LocationSearch')\n",
    "driver.find_element_by_id('LocationSearch').clear()\n",
    "search_job2.send_keys('Noida')\n",
    "search_btn = driver.find_element_by_xpath(\"//button[@class='gd-btn-mkt']\")\n",
    "search_btn.click()"
   ]
  },
  {
   "cell_type": "code",
   "execution_count": 23,
   "metadata": {},
   "outputs": [],
   "source": [
    "# gathering the data\n",
    "company = driver.find_elements_by_xpath(\"//a[@class='css-f3vw95 e1aj7ssy3']\")\n",
    "nsalary = driver.find_elements_by_xpath(\"//div[@class='col-12 col-lg-auto']\")\n",
    "rating = driver.find_elements_by_xpath(\"//span[@class='m-0 css-kyx745']\")\n",
    "avgsalary = driver.find_elements_by_xpath(\"//div[@class='col-12 col-lg-4 px-lg-0 d-flex align-items-baseline']\")\n",
    "minsalary = driver.find_elements_by_xpath(\"//div[@class='d-flex mt-xxsm css-79elbk epuxyqn0']\")"
   ]
  },
  {
   "cell_type": "code",
   "execution_count": 51,
   "metadata": {},
   "outputs": [],
   "source": [
    "#converting data into suitable forms\n",
    "comp =[]\n",
    "nsal=[]\n",
    "rat=[]\n",
    "avgsal=[]\n",
    "minsal=[]\n",
    "maxsal=[]\n",
    "for i in company[:10]:\n",
    "    comp.append(i.text)\n",
    "for i in nsalary[:10]:\n",
    "    nsal.append(i.text)\n",
    "for i in rating[:10]:\n",
    "    rat.append(i.text)\n",
    "for i in avgsalary[:10]:\n",
    "    avgsal.append(i.text)\n",
    "for i in minsalary[:10]:\n",
    "    st = i.text.split(\"\\n\")\n",
    "    minsal.append(st[0])\n",
    "    maxsal.append(st[1])"
   ]
  },
  {
   "cell_type": "code",
   "execution_count": 52,
   "metadata": {},
   "outputs": [],
   "source": [
    "#creating the dataframe\n",
    "jobs_data = pd.DataFrame({\n",
    "            \"Company\": comp,\n",
    "             \"number fo salaries\": nsal,\n",
    "             \"rating\": rat,\n",
    "             \"average salary\":avgsal,\n",
    "             \"minimum salary\": minsal,\n",
    "             \"maximum salary\": maxsal,\n",
    "        })"
   ]
  },
  {
   "cell_type": "code",
   "execution_count": 53,
   "metadata": {},
   "outputs": [
    {
     "data": {
      "text/html": [
       "<div>\n",
       "<style scoped>\n",
       "    .dataframe tbody tr th:only-of-type {\n",
       "        vertical-align: middle;\n",
       "    }\n",
       "\n",
       "    .dataframe tbody tr th {\n",
       "        vertical-align: top;\n",
       "    }\n",
       "\n",
       "    .dataframe thead th {\n",
       "        text-align: right;\n",
       "    }\n",
       "</style>\n",
       "<table border=\"1\" class=\"dataframe\">\n",
       "  <thead>\n",
       "    <tr style=\"text-align: right;\">\n",
       "      <th></th>\n",
       "      <th>Company</th>\n",
       "      <th>number fo salaries</th>\n",
       "      <th>rating</th>\n",
       "      <th>average salary</th>\n",
       "      <th>minimum salary</th>\n",
       "      <th>maximum salary</th>\n",
       "    </tr>\n",
       "  </thead>\n",
       "  <tbody>\n",
       "    <tr>\n",
       "      <th>0</th>\n",
       "      <td>Tata Consultancy Services</td>\n",
       "      <td>17 salaries</td>\n",
       "      <td>3.9</td>\n",
       "      <td>₹ 6,15,289\\n /yr</td>\n",
       "      <td>₹343K</td>\n",
       "      <td>₹1,250K</td>\n",
       "    </tr>\n",
       "    <tr>\n",
       "      <th>1</th>\n",
       "      <td>IBM</td>\n",
       "      <td>15 salaries</td>\n",
       "      <td>3.9</td>\n",
       "      <td>₹ 9,00,000\\n /yr</td>\n",
       "      <td>₹587K</td>\n",
       "      <td>₹2,734K</td>\n",
       "    </tr>\n",
       "    <tr>\n",
       "      <th>2</th>\n",
       "      <td>Accenture</td>\n",
       "      <td>14 salaries</td>\n",
       "      <td>4</td>\n",
       "      <td>₹ 11,48,366\\n /yr</td>\n",
       "      <td>₹578K</td>\n",
       "      <td>₹2,217K</td>\n",
       "    </tr>\n",
       "    <tr>\n",
       "      <th>3</th>\n",
       "      <td>Ericsson-Worldwide</td>\n",
       "      <td>14 salaries</td>\n",
       "      <td>4</td>\n",
       "      <td>₹ 7,39,238\\n /yr</td>\n",
       "      <td>₹355K</td>\n",
       "      <td>₹1,615K</td>\n",
       "    </tr>\n",
       "    <tr>\n",
       "      <th>4</th>\n",
       "      <td>Delhivery</td>\n",
       "      <td>14 salaries</td>\n",
       "      <td>3.8</td>\n",
       "      <td>₹ 12,41,763\\n /yr</td>\n",
       "      <td>₹451K</td>\n",
       "      <td>₹11,640K</td>\n",
       "    </tr>\n",
       "  </tbody>\n",
       "</table>\n",
       "</div>"
      ],
      "text/plain": [
       "                     Company number fo salaries rating     average salary  \\\n",
       "0  Tata Consultancy Services        17 salaries    3.9   ₹ 6,15,289\\n /yr   \n",
       "1                        IBM        15 salaries    3.9   ₹ 9,00,000\\n /yr   \n",
       "2                  Accenture        14 salaries      4  ₹ 11,48,366\\n /yr   \n",
       "3         Ericsson-Worldwide        14 salaries      4   ₹ 7,39,238\\n /yr   \n",
       "4                  Delhivery        14 salaries    3.8  ₹ 12,41,763\\n /yr   \n",
       "\n",
       "  minimum salary maximum salary  \n",
       "0          ₹343K        ₹1,250K  \n",
       "1          ₹587K        ₹2,734K  \n",
       "2          ₹578K        ₹2,217K  \n",
       "3          ₹355K        ₹1,615K  \n",
       "4          ₹451K       ₹11,640K  "
      ]
     },
     "execution_count": 53,
     "metadata": {},
     "output_type": "execute_result"
    }
   ],
   "source": [
    "#verifying the dataframe\n",
    "jobs_data.head()"
   ]
  },
  {
   "cell_type": "markdown",
   "metadata": {},
   "source": [
    "# Q6"
   ]
  },
  {
   "cell_type": "code",
   "execution_count": 84,
   "metadata": {},
   "outputs": [],
   "source": [
    "url = \"https://www.flipkart.com/\"\n",
    "driver.get(url)\n",
    "#performing search\n",
    "search_job1 = driver.find_element_by_xpath(\"//input[@class='_3704LK']\")\n",
    "search_job1.send_keys('Sunglasses')\n",
    "\n",
    "search_btn = driver.find_element_by_xpath(\"//button[@class='L0Z3Pu']\")\n",
    "search_btn.click()"
   ]
  },
  {
   "cell_type": "code",
   "execution_count": 98,
   "metadata": {},
   "outputs": [],
   "source": [
    "#gathering the data\n",
    "import time\n",
    "n=[]\n",
    "discription=[]\n",
    "pr=[]\n",
    "discou=[]\n",
    "\n",
    "while(True):\n",
    "    time.sleep(2)\n",
    "    name = driver.find_elements_by_xpath(\"//div[@class='_2WkVRV']\")\n",
    "    disc = driver.find_elements_by_xpath(\"//a[@class='IRpwTa']\")\n",
    "    price = driver.find_elements_by_xpath(\"//div[@class='_30jeq3']\")\n",
    "    discount = driver.find_elements_by_xpath(\"//div[@class='_3Ay6Sb']\")\n",
    "    for i in name:\n",
    "        if(len(n)<100):\n",
    "            n.append(i.text)\n",
    "        else:\n",
    "            break\n",
    "    for i in disc:\n",
    "        if(len(discription)<100):\n",
    "            discription.append(i.text)\n",
    "        else:\n",
    "            break\n",
    "    for i in price[:40]:\n",
    "        if(len(pr)<100):\n",
    "            pr.append(i.text)\n",
    "        else:\n",
    "            break\n",
    "    for i in discount[:40]:\n",
    "        if(len(discou)<100):\n",
    "            discou.append(i.text)\n",
    "        else:\n",
    "            break\n",
    "    if(len(n)>=100):\n",
    "        break\n",
    "    driver.find_element_by_xpath(\"//a[@class='_1LKTO3']\").click()"
   ]
  },
  {
   "cell_type": "code",
   "execution_count": 99,
   "metadata": {},
   "outputs": [
    {
     "data": {
      "text/html": [
       "<div>\n",
       "<style scoped>\n",
       "    .dataframe tbody tr th:only-of-type {\n",
       "        vertical-align: middle;\n",
       "    }\n",
       "\n",
       "    .dataframe tbody tr th {\n",
       "        vertical-align: top;\n",
       "    }\n",
       "\n",
       "    .dataframe thead th {\n",
       "        text-align: right;\n",
       "    }\n",
       "</style>\n",
       "<table border=\"1\" class=\"dataframe\">\n",
       "  <thead>\n",
       "    <tr style=\"text-align: right;\">\n",
       "      <th></th>\n",
       "      <th>Company</th>\n",
       "      <th>Discription</th>\n",
       "      <th>Price</th>\n",
       "      <th>Discount</th>\n",
       "    </tr>\n",
       "  </thead>\n",
       "  <tbody>\n",
       "    <tr>\n",
       "      <th>0</th>\n",
       "      <td>PIRASO</td>\n",
       "      <td>UV Protection Aviator Sunglasses (54)</td>\n",
       "      <td>₹237</td>\n",
       "      <td>85% off</td>\n",
       "    </tr>\n",
       "    <tr>\n",
       "      <th>1</th>\n",
       "      <td>PIRASO</td>\n",
       "      <td>UV Protection Aviator Sunglasses (54)</td>\n",
       "      <td>₹237</td>\n",
       "      <td>85% off</td>\n",
       "    </tr>\n",
       "    <tr>\n",
       "      <th>2</th>\n",
       "      <td>PIRASO</td>\n",
       "      <td>UV Protection Aviator Sunglasses (54)</td>\n",
       "      <td>₹237</td>\n",
       "      <td>85% off</td>\n",
       "    </tr>\n",
       "    <tr>\n",
       "      <th>3</th>\n",
       "      <td>Fastrack</td>\n",
       "      <td>UV Protection Rectangular Sunglasses (Free Size)</td>\n",
       "      <td>₹541</td>\n",
       "      <td>32% off</td>\n",
       "    </tr>\n",
       "    <tr>\n",
       "      <th>4</th>\n",
       "      <td>ROZZETTA CRAFT</td>\n",
       "      <td>UV Protection, Gradient Rectangular Sunglasses...</td>\n",
       "      <td>₹404</td>\n",
       "      <td>79% off</td>\n",
       "    </tr>\n",
       "  </tbody>\n",
       "</table>\n",
       "</div>"
      ],
      "text/plain": [
       "          Company                                        Discription Price  \\\n",
       "0          PIRASO              UV Protection Aviator Sunglasses (54)  ₹237   \n",
       "1          PIRASO              UV Protection Aviator Sunglasses (54)  ₹237   \n",
       "2          PIRASO              UV Protection Aviator Sunglasses (54)  ₹237   \n",
       "3        Fastrack   UV Protection Rectangular Sunglasses (Free Size)  ₹541   \n",
       "4  ROZZETTA CRAFT  UV Protection, Gradient Rectangular Sunglasses...  ₹404   \n",
       "\n",
       "  Discount  \n",
       "0  85% off  \n",
       "1  85% off  \n",
       "2  85% off  \n",
       "3  32% off  \n",
       "4  79% off  "
      ]
     },
     "execution_count": 99,
     "metadata": {},
     "output_type": "execute_result"
    }
   ],
   "source": [
    "#creating the dataframe\n",
    "sunglasses_data = pd.DataFrame({\n",
    "            \"Company\": n,\n",
    "             \"Discription\": discription,\n",
    "             \"Price\": pr,\n",
    "             \"Discount\":discou,\n",
    "        })\n",
    "sunglasses_data.head()"
   ]
  },
  {
   "cell_type": "markdown",
   "metadata": {},
   "source": [
    "# Q7"
   ]
  },
  {
   "cell_type": "code",
   "execution_count": 102,
   "metadata": {},
   "outputs": [],
   "source": [
    "url = \"https://www.flipkart.com/apple-iphone-11-black-64-gb-includes-earpods-power-adapter/product-reviews/itm0f37c2240b217?pid=MOBFKCTSVZAXUHGR&lid=LSTMOBFKCTSVZAXUHGREPBFGI&marketplace=FLIPKART\"\n",
    "driver.get(url)"
   ]
  },
  {
   "cell_type": "code",
   "execution_count": 103,
   "metadata": {},
   "outputs": [],
   "source": [
    "#gathering the data\n",
    "rat = []\n",
    "shortdisc=[]\n",
    "discription=[]\n",
    "while(True):\n",
    "    time.sleep(2)\n",
    "    rating = driver.find_elements_by_xpath(\"//div[@class='_3LWZlK _1BLPMq']\")\n",
    "    short = driver.find_elements_by_xpath(\"//p[@class='_2-N8zT']\")\n",
    "    disc = driver.find_elements_by_xpath(\"//div[@class='t-ZTKy']\")\n",
    "    for i in rating:\n",
    "        if(len(rat)<100):\n",
    "            rat.append(i.text)\n",
    "        else:\n",
    "            break\n",
    "    for i in short:\n",
    "        if(len(shortdisc)<100):\n",
    "            shortdisc.append(i.text)\n",
    "        else:\n",
    "            break\n",
    "    for i in disc:\n",
    "        if(len(discription)<100):\n",
    "            discription.append(i.text)\n",
    "        else:\n",
    "            break\n",
    "    if(len(rat)>=100):\n",
    "        break\n",
    "    driver.find_element_by_xpath(\"//a[@class='_1LKTO3']\").click()"
   ]
  },
  {
   "cell_type": "code",
   "execution_count": 104,
   "metadata": {},
   "outputs": [
    {
     "data": {
      "text/html": [
       "<div>\n",
       "<style scoped>\n",
       "    .dataframe tbody tr th:only-of-type {\n",
       "        vertical-align: middle;\n",
       "    }\n",
       "\n",
       "    .dataframe tbody tr th {\n",
       "        vertical-align: top;\n",
       "    }\n",
       "\n",
       "    .dataframe thead th {\n",
       "        text-align: right;\n",
       "    }\n",
       "</style>\n",
       "<table border=\"1\" class=\"dataframe\">\n",
       "  <thead>\n",
       "    <tr style=\"text-align: right;\">\n",
       "      <th></th>\n",
       "      <th>Rating</th>\n",
       "      <th>review_summary</th>\n",
       "      <th>short review</th>\n",
       "    </tr>\n",
       "  </thead>\n",
       "  <tbody>\n",
       "    <tr>\n",
       "      <th>0</th>\n",
       "      <td>5</td>\n",
       "      <td>The Best Phone for the Money\\n\\nThe iPhone 11 ...</td>\n",
       "      <td>Brilliant</td>\n",
       "    </tr>\n",
       "    <tr>\n",
       "      <th>1</th>\n",
       "      <td>5</td>\n",
       "      <td>Amazing phone with great cameras and better ba...</td>\n",
       "      <td>Perfect product!</td>\n",
       "    </tr>\n",
       "    <tr>\n",
       "      <th>2</th>\n",
       "      <td>5</td>\n",
       "      <td>Amazing Powerful and Durable Gadget.\\n\\nI’m am...</td>\n",
       "      <td>Great product</td>\n",
       "    </tr>\n",
       "    <tr>\n",
       "      <th>3</th>\n",
       "      <td>5</td>\n",
       "      <td>Previously I was using one plus 3t it was a gr...</td>\n",
       "      <td>Worth every penny</td>\n",
       "    </tr>\n",
       "    <tr>\n",
       "      <th>4</th>\n",
       "      <td>5</td>\n",
       "      <td>This is my first iOS phone. I am very happy wi...</td>\n",
       "      <td>Fabulous!</td>\n",
       "    </tr>\n",
       "  </tbody>\n",
       "</table>\n",
       "</div>"
      ],
      "text/plain": [
       "  Rating                                     review_summary       short review\n",
       "0      5  The Best Phone for the Money\\n\\nThe iPhone 11 ...          Brilliant\n",
       "1      5  Amazing phone with great cameras and better ba...   Perfect product!\n",
       "2      5  Amazing Powerful and Durable Gadget.\\n\\nI’m am...      Great product\n",
       "3      5  Previously I was using one plus 3t it was a gr...  Worth every penny\n",
       "4      5  This is my first iOS phone. I am very happy wi...          Fabulous!"
      ]
     },
     "execution_count": 104,
     "metadata": {},
     "output_type": "execute_result"
    }
   ],
   "source": [
    "#creating the dataframe\n",
    "sunglasses_data = pd.DataFrame({\n",
    "            \"Rating\": rat,\n",
    "             \"review_summary\": discription,\n",
    "             \"short review\": shortdisc,\n",
    "        })\n",
    "sunglasses_data.head()"
   ]
  },
  {
   "cell_type": "markdown",
   "metadata": {},
   "source": [
    "# Q8"
   ]
  },
  {
   "cell_type": "code",
   "execution_count": 111,
   "metadata": {},
   "outputs": [],
   "source": [
    "url = \"https://www.flipkart.com/\"\n",
    "driver.get(url)\n",
    "#perforing search\n",
    "search_job1 = driver.find_element_by_xpath(\"//input[@class='_3704LK']\")\n",
    "search_job1.send_keys('sneakers')\n",
    "\n",
    "search_btn = driver.find_element_by_xpath(\"//button[@class='L0Z3Pu']\")\n",
    "search_btn.click()"
   ]
  },
  {
   "cell_type": "code",
   "execution_count": 114,
   "metadata": {},
   "outputs": [
    {
     "name": "stdout",
     "output_type": "stream",
     "text": [
      "40\n",
      "40\n",
      "40\n"
     ]
    }
   ],
   "source": [
    "#getting all the links\n",
    "url = []\n",
    "while(len(url)<100):\n",
    "    time.sleep(2)\n",
    "    search= driver.find_elements_by_xpath(\"//a[@class='_2UzuFa']\")\n",
    "    for i in search:\n",
    "        url.append(i.get_attribute('href'))\n",
    "    driver.find_element_by_xpath(\"//a[@class='_1LKTO3']\").click()"
   ]
  },
  {
   "cell_type": "code",
   "execution_count": 120,
   "metadata": {},
   "outputs": [],
   "source": [
    "# gathering the data from pages\n",
    "import time\n",
    "from selenium.common.exceptions import NoSuchElementException\n",
    "n=[]\n",
    "discription=[]\n",
    "pr=[]\n",
    "discou=[]\n",
    "\n",
    "for ur in url[:100]:\n",
    "    driver.get(ur)\n",
    "    time.sleep(2)\n",
    "    try:\n",
    "        name = driver.find_element_by_xpath(\"//span[@class='G6XhRU']\")\n",
    "        n.append(name.text)\n",
    "    except NoSuchElementException:\n",
    "        n.append(\"-\")\n",
    "    try:\n",
    "        disc = driver.find_element_by_xpath(\"//span[@class='B_NuCI']\")\n",
    "        discription.append(disc.text)\n",
    "    except NoSuchElementException:\n",
    "        discription.append(\"-\")\n",
    "    try:    \n",
    "        price = driver.find_element_by_xpath(\"//div[@class='_30jeq3 _16Jk6d']\")\n",
    "        pr.append(price.text)\n",
    "    except NoSuchElementException:\n",
    "        pr.append(\"-\")\n",
    "    try:    \n",
    "        discount = driver.find_element_by_xpath(\"//div[@class='_3Ay6Sb _31Dcoz pZkvcx']\")\n",
    "        discou.append(discount.text)\n",
    "    except NoSuchElementException:\n",
    "        discou.append(\"-\")"
   ]
  },
  {
   "cell_type": "code",
   "execution_count": 121,
   "metadata": {},
   "outputs": [
    {
     "data": {
      "text/html": [
       "<div>\n",
       "<style scoped>\n",
       "    .dataframe tbody tr th:only-of-type {\n",
       "        vertical-align: middle;\n",
       "    }\n",
       "\n",
       "    .dataframe tbody tr th {\n",
       "        vertical-align: top;\n",
       "    }\n",
       "\n",
       "    .dataframe thead th {\n",
       "        text-align: right;\n",
       "    }\n",
       "</style>\n",
       "<table border=\"1\" class=\"dataframe\">\n",
       "  <thead>\n",
       "    <tr style=\"text-align: right;\">\n",
       "      <th></th>\n",
       "      <th>Company</th>\n",
       "      <th>Discription</th>\n",
       "      <th>Price</th>\n",
       "      <th>Discount</th>\n",
       "    </tr>\n",
       "  </thead>\n",
       "  <tbody>\n",
       "    <tr>\n",
       "      <th>0</th>\n",
       "      <td>Chevit</td>\n",
       "      <td>Super 445 Fashion Sneakers For Men  (Navy)</td>\n",
       "      <td>₹348</td>\n",
       "      <td>30% off</td>\n",
       "    </tr>\n",
       "    <tr>\n",
       "      <th>1</th>\n",
       "      <td>D-SNEAKERZ</td>\n",
       "      <td>Casual , Partywear Sneakers Shoes For Men's An...</td>\n",
       "      <td>₹365</td>\n",
       "      <td>44% off</td>\n",
       "    </tr>\n",
       "    <tr>\n",
       "      <th>2</th>\n",
       "      <td>Nilatin</td>\n",
       "      <td>White Sneaker for Men Sneakers For Men  (White)</td>\n",
       "      <td>₹407</td>\n",
       "      <td>68% off</td>\n",
       "    </tr>\n",
       "    <tr>\n",
       "      <th>3</th>\n",
       "      <td>JUBENTA</td>\n",
       "      <td>Latest Design Sneakers For Men  (White)</td>\n",
       "      <td>₹521</td>\n",
       "      <td>47% off</td>\n",
       "    </tr>\n",
       "    <tr>\n",
       "      <th>4</th>\n",
       "      <td>Robbie jones</td>\n",
       "      <td>Casual Sneakers White Shoes For Men Sneakers F...</td>\n",
       "      <td>₹499</td>\n",
       "      <td>50% off</td>\n",
       "    </tr>\n",
       "  </tbody>\n",
       "</table>\n",
       "</div>"
      ],
      "text/plain": [
       "         Company                                        Discription Price  \\\n",
       "0        Chevit          Super 445 Fashion Sneakers For Men  (Navy)  ₹348   \n",
       "1    D-SNEAKERZ   Casual , Partywear Sneakers Shoes For Men's An...  ₹365   \n",
       "2       Nilatin     White Sneaker for Men Sneakers For Men  (White)  ₹407   \n",
       "3       JUBENTA             Latest Design Sneakers For Men  (White)  ₹521   \n",
       "4  Robbie jones   Casual Sneakers White Shoes For Men Sneakers F...  ₹499   \n",
       "\n",
       "  Discount  \n",
       "0  30% off  \n",
       "1  44% off  \n",
       "2  68% off  \n",
       "3  47% off  \n",
       "4  50% off  "
      ]
     },
     "execution_count": 121,
     "metadata": {},
     "output_type": "execute_result"
    }
   ],
   "source": [
    "# creating the dataframe\n",
    "sneakers = pd.DataFrame({\n",
    "            \"Company\": n,\n",
    "             \"Discription\": discription,\n",
    "             \"Price\": pr,\n",
    "             \"Discount\":discou,\n",
    "        })\n",
    "sneakers.head()"
   ]
  },
  {
   "cell_type": "markdown",
   "metadata": {},
   "source": [
    "# Q9"
   ]
  },
  {
   "cell_type": "code",
   "execution_count": 146,
   "metadata": {},
   "outputs": [],
   "source": [
    "url = \"https://www.myntra.com/shoes\"\n",
    "driver.get(url)\n",
    "#performing search\n",
    "search_bt = driver.find_element_by_xpath(\"//label[text()='Rs. 6649 to Rs. 13099']\")\n",
    "\n"
   ]
  },
  {
   "cell_type": "code",
   "execution_count": 148,
   "metadata": {},
   "outputs": [],
   "source": [
    "search_bt.click()"
   ]
  },
  {
   "cell_type": "code",
   "execution_count": 149,
   "metadata": {},
   "outputs": [],
   "source": [
    "search_btn = driver.find_element_by_xpath(\"//label[text()='Black']\")\n",
    "search_btn.click()"
   ]
  },
  {
   "cell_type": "code",
   "execution_count": 151,
   "metadata": {},
   "outputs": [],
   "source": [
    "# garthering the data\n",
    "import time\n",
    "from selenium.common.exceptions import NoSuchElementException\n",
    "    \n",
    "n = []\n",
    "disc=[]\n",
    "price=[]\n",
    "while(True):\n",
    "    time.sleep(2)\n",
    "    name = driver.find_elements_by_xpath(\"//h3[@class='product-brand']\")\n",
    "    discription = driver.find_elements_by_xpath(\"//h4[@class='product-product']\")\n",
    "    cost = driver.find_elements_by_xpath(\"//div[@class='product-price']\")\n",
    "    for i in name:\n",
    "        if(len(n)<100):\n",
    "            n.append(i.text)\n",
    "        else:\n",
    "            break\n",
    "    for i in discription:\n",
    "        if(len(disc)<100):\n",
    "            disc.append(i.text)\n",
    "        else:\n",
    "            break\n",
    "    for i in cost:\n",
    "        if(len(price)<100):\n",
    "            price.append(i.text)\n",
    "        else:\n",
    "            break\n",
    "    if(len(n)>=100):\n",
    "        break\n",
    "    driver.find_element_by_xpath(\"//li[@class='pagination-next']\").click()"
   ]
  },
  {
   "cell_type": "code",
   "execution_count": 154,
   "metadata": {},
   "outputs": [
    {
     "data": {
      "text/html": [
       "<div>\n",
       "<style scoped>\n",
       "    .dataframe tbody tr th:only-of-type {\n",
       "        vertical-align: middle;\n",
       "    }\n",
       "\n",
       "    .dataframe tbody tr th {\n",
       "        vertical-align: top;\n",
       "    }\n",
       "\n",
       "    .dataframe thead th {\n",
       "        text-align: right;\n",
       "    }\n",
       "</style>\n",
       "<table border=\"1\" class=\"dataframe\">\n",
       "  <thead>\n",
       "    <tr style=\"text-align: right;\">\n",
       "      <th></th>\n",
       "      <th>Company</th>\n",
       "      <th>Discription</th>\n",
       "      <th>Price</th>\n",
       "    </tr>\n",
       "  </thead>\n",
       "  <tbody>\n",
       "    <tr>\n",
       "      <th>0</th>\n",
       "      <td>Nike</td>\n",
       "      <td>Men JORDAN DELTA Basketball</td>\n",
       "      <td>Rs. 12495</td>\n",
       "    </tr>\n",
       "    <tr>\n",
       "      <th>1</th>\n",
       "      <td>Nike</td>\n",
       "      <td>Women REACT Running Shoes</td>\n",
       "      <td>Rs. 7796Rs. 11995(35% OFF)</td>\n",
       "    </tr>\n",
       "    <tr>\n",
       "      <th>2</th>\n",
       "      <td>Nike</td>\n",
       "      <td>Men ZOOM FREAK 2 Basketball</td>\n",
       "      <td>Rs. 7721Rs. 10295(25% OFF)</td>\n",
       "    </tr>\n",
       "    <tr>\n",
       "      <th>3</th>\n",
       "      <td>Nike</td>\n",
       "      <td>Men KD13 EP Basketball Shoes</td>\n",
       "      <td>Rs. 12995</td>\n",
       "    </tr>\n",
       "    <tr>\n",
       "      <th>4</th>\n",
       "      <td>Nike</td>\n",
       "      <td>Unisex LEBRON XVIII Basketball</td>\n",
       "      <td>Rs. 12316Rs. 17595(30% OFF)</td>\n",
       "    </tr>\n",
       "  </tbody>\n",
       "</table>\n",
       "</div>"
      ],
      "text/plain": [
       "  Company                     Discription                        Price\n",
       "0    Nike     Men JORDAN DELTA Basketball                    Rs. 12495\n",
       "1    Nike       Women REACT Running Shoes   Rs. 7796Rs. 11995(35% OFF)\n",
       "2    Nike     Men ZOOM FREAK 2 Basketball   Rs. 7721Rs. 10295(25% OFF)\n",
       "3    Nike    Men KD13 EP Basketball Shoes                    Rs. 12995\n",
       "4    Nike  Unisex LEBRON XVIII Basketball  Rs. 12316Rs. 17595(30% OFF)"
      ]
     },
     "execution_count": 154,
     "metadata": {},
     "output_type": "execute_result"
    }
   ],
   "source": [
    "# creating dataframe\n",
    "shoes = pd.DataFrame({\n",
    "            \"Company\": n,\n",
    "             \"Discription\": disc,\n",
    "             \"Price\": price,\n",
    "        })\n",
    "shoes.head()"
   ]
  },
  {
   "cell_type": "markdown",
   "metadata": {},
   "source": [
    "# Q10"
   ]
  },
  {
   "cell_type": "code",
   "execution_count": 346,
   "metadata": {},
   "outputs": [],
   "source": [
    "url = \"https://www.amazon.in/\"\n",
    "driver.get(url)\n",
    "#performing search\n",
    "search_job1 = driver.find_element_by_id(\"twotabsearchtextbox\")\n",
    "search_job1.send_keys('Laptop')\n",
    "search_bt = driver.find_element_by_id(\"nav-search-submit-button\")\n",
    "search_bt.click()\n",
    "time.sleep(3)"
   ]
  },
  {
   "cell_type": "code",
   "execution_count": 347,
   "metadata": {},
   "outputs": [],
   "source": [
    "#filtering the search \n",
    "search = driver.find_element_by_xpath(\"//span[text()='Intel Core i7']\")\n",
    "search.click()\n",
    "time.sleep(3)"
   ]
  },
  {
   "cell_type": "code",
   "execution_count": 348,
   "metadata": {},
   "outputs": [],
   "source": [
    "search = driver.find_element_by_xpath(\"//span[text()='Intel Core i9']\")\n",
    "search.click()\n",
    "time.sleep(3)"
   ]
  },
  {
   "cell_type": "code",
   "execution_count": 350,
   "metadata": {},
   "outputs": [],
   "source": [
    "#gathering all the product URL\n",
    "ul = driver.find_elements_by_xpath(\"//a[@class='a-link-normal a-text-normal']\")\n",
    "url=[]\n",
    "for i in ul:\n",
    "    url.append(i.get_attribute(\"href\"))"
   ]
  },
  {
   "cell_type": "code",
   "execution_count": 353,
   "metadata": {},
   "outputs": [],
   "source": [
    "#gathering info from the URL's\n",
    "n=[]\n",
    "price=[]\n",
    "rating=[]\n",
    "for i in url[:10]:\n",
    "    driver.get(i)\n",
    "    time.sleep(2)\n",
    "    try:\n",
    "        n.append(driver.find_element_by_xpath(\"//h1[@class='a-size-large a-spacing-none']\").text)\n",
    "    except NoSuchElementException:\n",
    "        n.append(\"-\")\n",
    "    try:\n",
    "        price.append(driver.find_element_by_xpath(\"//span[@id='priceblock_ourprice']\").text)\n",
    "    except NoSuchElementException:\n",
    "        price.append(\"-\")\n",
    "    try:\n",
    "        rating.append(driver.find_element_by_xpath(\"//span[@class='a-size-medium a-color-base']\").text)\n",
    "    except NoSuchElementException:\n",
    "        rating.append(\"-\")"
   ]
  },
  {
   "cell_type": "code",
   "execution_count": 355,
   "metadata": {},
   "outputs": [
    {
     "data": {
      "text/html": [
       "<div>\n",
       "<style scoped>\n",
       "    .dataframe tbody tr th:only-of-type {\n",
       "        vertical-align: middle;\n",
       "    }\n",
       "\n",
       "    .dataframe tbody tr th {\n",
       "        vertical-align: top;\n",
       "    }\n",
       "\n",
       "    .dataframe thead th {\n",
       "        text-align: right;\n",
       "    }\n",
       "</style>\n",
       "<table border=\"1\" class=\"dataframe\">\n",
       "  <thead>\n",
       "    <tr style=\"text-align: right;\">\n",
       "      <th></th>\n",
       "      <th>Title</th>\n",
       "      <th>Price</th>\n",
       "      <th>Rating</th>\n",
       "    </tr>\n",
       "  </thead>\n",
       "  <tbody>\n",
       "    <tr>\n",
       "      <th>0</th>\n",
       "      <td>Dell Inspiron 5410 14\" FHD Touch Display 2in1 ...</td>\n",
       "      <td>₹ 97,990.00</td>\n",
       "      <td>-</td>\n",
       "    </tr>\n",
       "    <tr>\n",
       "      <th>1</th>\n",
       "      <td>Mi Notebook Horizon Edition 14 Intel Core i5-1...</td>\n",
       "      <td>₹ 54,999.00</td>\n",
       "      <td>4.4 out of 5</td>\n",
       "    </tr>\n",
       "    <tr>\n",
       "      <th>2</th>\n",
       "      <td>Life Digital Laptop 15.6-inch (39.62 cms) (Int...</td>\n",
       "      <td>₹ 26,990.00</td>\n",
       "      <td>3.1 out of 5</td>\n",
       "    </tr>\n",
       "    <tr>\n",
       "      <th>3</th>\n",
       "      <td>HP Pavilion (2021) Thin &amp; Light 11th Gen Core ...</td>\n",
       "      <td>₹ 84,990.00</td>\n",
       "      <td>4.5 out of 5</td>\n",
       "    </tr>\n",
       "    <tr>\n",
       "      <th>4</th>\n",
       "      <td>(Renewed) ASUS ROG Strix Scar II GL504GM-ES155...</td>\n",
       "      <td>₹ 1,46,192.00</td>\n",
       "      <td>-</td>\n",
       "    </tr>\n",
       "  </tbody>\n",
       "</table>\n",
       "</div>"
      ],
      "text/plain": [
       "                                               Title          Price  \\\n",
       "0  Dell Inspiron 5410 14\" FHD Touch Display 2in1 ...    ₹ 97,990.00   \n",
       "1  Mi Notebook Horizon Edition 14 Intel Core i5-1...    ₹ 54,999.00   \n",
       "2  Life Digital Laptop 15.6-inch (39.62 cms) (Int...    ₹ 26,990.00   \n",
       "3  HP Pavilion (2021) Thin & Light 11th Gen Core ...    ₹ 84,990.00   \n",
       "4  (Renewed) ASUS ROG Strix Scar II GL504GM-ES155...  ₹ 1,46,192.00   \n",
       "\n",
       "         Rating  \n",
       "0             -  \n",
       "1  4.4 out of 5  \n",
       "2  3.1 out of 5  \n",
       "3  4.5 out of 5  \n",
       "4             -  "
      ]
     },
     "execution_count": 355,
     "metadata": {},
     "output_type": "execute_result"
    }
   ],
   "source": [
    "#creating the dataframe\n",
    "shoes = pd.DataFrame({\n",
    "            \"Title\": n,\n",
    "             \"Price\": price,\n",
    "             \"Rating\": rating,\n",
    "        })\n",
    "shoes.head()"
   ]
  }
 ],
 "metadata": {
  "kernelspec": {
   "display_name": "Python 3",
   "language": "python",
   "name": "python3"
  },
  "language_info": {
   "codemirror_mode": {
    "name": "ipython",
    "version": 3
   },
   "file_extension": ".py",
   "mimetype": "text/x-python",
   "name": "python",
   "nbconvert_exporter": "python",
   "pygments_lexer": "ipython3",
   "version": "3.8.5"
  }
 },
 "nbformat": 4,
 "nbformat_minor": 4
}
